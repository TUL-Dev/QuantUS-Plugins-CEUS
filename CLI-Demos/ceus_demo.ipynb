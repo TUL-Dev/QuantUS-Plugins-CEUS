{
 "cells": [
  {
   "cell_type": "code",
   "execution_count": 1,
   "id": "864b1626",
   "metadata": {},
   "outputs": [
    {
     "name": "stdout",
     "output_type": "stream",
     "text": [
      "/home/das/QuantUS_Projs/QuantUS-Plugins-CEUS/CLI-Demos\n",
      "/home/das/QuantUS_Projs/QuantUS-Plugins-CEUS\n"
     ]
    }
   ],
   "source": [
    "%reload_ext autoreload\n",
    "%autoreload 2\n",
    "\n",
    "import os\n",
    "from pathlib import Path\n",
    "\n",
    "print(Path().cwd())\n",
    "os.chdir(Path(os.getcwd()).parent)\n",
    "print(Path().cwd())"
   ]
  },
  {
   "cell_type": "markdown",
   "id": "3926872e",
   "metadata": {},
   "source": [
    "## Select Contrast-Enhanced Ultrasound (CEUS) Cine and Parser"
   ]
  },
  {
   "cell_type": "code",
   "execution_count": 2,
   "id": "8171c88c",
   "metadata": {},
   "outputs": [
    {
     "name": "stdout",
     "output_type": "stream",
     "text": [
      "Available scan loaders: ['nifti']\n"
     ]
    }
   ],
   "source": [
    "from src.image_loading.options import get_scan_loaders\n",
    "\n",
    "print(\"Available scan loaders:\", list(get_scan_loaders().keys()))"
   ]
  },
  {
   "cell_type": "code",
   "execution_count": 3,
   "id": "dea81c33",
   "metadata": {},
   "outputs": [],
   "source": [
    "scan_type = 'nifti'\n",
    "\n",
    "scan_path = '/media/das/TOSHIBA EXT/P-Selectin Data/Feb 2019 Mice Batch 1/Mouse01D02batch1_02152019/MouseC2M2_d02_02152019/20190215144608.915.nii.gz'\n",
    "scan_loader_kwargs = {\n",
    "    'transpose': False,\n",
    "}"
   ]
  },
  {
   "cell_type": "code",
   "execution_count": 4,
   "id": "e053b4b8",
   "metadata": {},
   "outputs": [],
   "source": [
    "from src.entrypoints import scan_loading_step\n",
    "\n",
    "image_data = scan_loading_step(scan_type, scan_path, **scan_loader_kwargs)"
   ]
  },
  {
   "cell_type": "markdown",
   "id": "f7685968",
   "metadata": {},
   "source": [
    "## Load Segmentation\n",
    "\n",
    "Assumes same segmentation for each frame"
   ]
  },
  {
   "cell_type": "code",
   "execution_count": 5,
   "id": "662f44fa",
   "metadata": {},
   "outputs": [
    {
     "name": "stdout",
     "output_type": "stream",
     "text": [
      "Available segmentation loaders: ['nifti_voi', 'load_bolus_mask']\n"
     ]
    }
   ],
   "source": [
    "from src.seg_loading.options import get_seg_loaders\n",
    "\n",
    "print(\"Available segmentation loaders:\", list(get_seg_loaders().keys()))"
   ]
  },
  {
   "cell_type": "code",
   "execution_count": 29,
   "id": "7abf0e1f",
   "metadata": {},
   "outputs": [],
   "source": [
    "seg_type = 'nifti_voi'\n",
    "\n",
    "seg_path = '/media/das/TOSHIBA EXT/P-Selectin Data/Feb VOIs (David)/20190215144608.915_segmentation_LEFT.nii.gz'\n",
    "seg_loader_kwargs = {}"
   ]
  },
  {
   "cell_type": "code",
   "execution_count": 30,
   "id": "449ee285",
   "metadata": {},
   "outputs": [],
   "source": [
    "from src.entrypoints import seg_loading_step\n",
    "\n",
    "seg_data = seg_loading_step(seg_type, image_data, seg_path, scan_path, **seg_loader_kwargs)"
   ]
  },
  {
   "cell_type": "markdown",
   "id": "ca7f4a42",
   "metadata": {},
   "source": [
    "## CEUS Quantitative Temporal Curve Analysis"
   ]
  },
  {
   "cell_type": "code",
   "execution_count": 31,
   "id": "62b55e9b",
   "metadata": {},
   "outputs": [
    {
     "name": "stdout",
     "output_type": "stream",
     "text": [
      "Available analysis types: ['ttc_curves']\n"
     ]
    }
   ],
   "source": [
    "from src.ttc_analysis.options import get_analysis_types, get_required_kwargs\n",
    "\n",
    "all_analysis_types, all_analysis_funcs = get_analysis_types()\n",
    "print(\"Available analysis types:\", list(all_analysis_types.keys()))"
   ]
  },
  {
   "cell_type": "code",
   "execution_count": 32,
   "id": "55f11918",
   "metadata": {},
   "outputs": [
    {
     "name": "stdout",
     "output_type": "stream",
     "text": [
      "Available analysis functions: ['pyradiomics', 'tic']\n"
     ]
    }
   ],
   "source": [
    "analysis_type = 'ttc_curves'\n",
    "\n",
    "print(\"Available analysis functions:\", list(all_analysis_funcs[analysis_type].keys()))"
   ]
  },
  {
   "cell_type": "code",
   "execution_count": 33,
   "id": "51bbcad0",
   "metadata": {},
   "outputs": [
    {
     "name": "stdout",
     "output_type": "stream",
     "text": [
      "Required kwargs for current analysis: ['pyradiomics_config_paths']\n"
     ]
    }
   ],
   "source": [
    "analysis_funcs = ['tic', 'pyradiomics']\n",
    "\n",
    "# Find all required kwargs for the analysis functions\n",
    "analysis_funcs = analysis_funcs if len(analysis_funcs) else list(all_analysis_funcs[analysis_type].keys())\n",
    "required_kwargs = get_required_kwargs(analysis_type, analysis_funcs)\n",
    "print(\"Required kwargs for current analysis:\", required_kwargs)"
   ]
  },
  {
   "cell_type": "code",
   "execution_count": 34,
   "id": "81503d34",
   "metadata": {},
   "outputs": [],
   "source": [
    "analysis_kwargs = {\n",
    "    'pyradiomics_config_paths': [\n",
    "        '/home/das/QuantUS_Projs/QuantUS-Plugins-CEUS/configs/pyradiomics/moderate-pselectin.yml',\n",
    "    ],\n",
    "    'curves_output_path': 'test_LEFT.csv',\n",
    "}"
   ]
  },
  {
   "cell_type": "code",
   "execution_count": 35,
   "id": "4b13d151",
   "metadata": {},
   "outputs": [
    {
     "name": "stderr",
     "output_type": "stream",
     "text": [
      "Computing curves: 100%|██████████| 384/384 [00:21<00:00, 17.91it/s]\n"
     ]
    }
   ],
   "source": [
    "from src.entrypoints import analysis_step\n",
    "\n",
    "analysis_obj = analysis_step(analysis_type, image_data, seg_data, analysis_funcs, **analysis_kwargs)"
   ]
  },
  {
   "cell_type": "code",
   "execution_count": null,
   "id": "af546bcd",
   "metadata": {},
   "outputs": [],
   "source": [
    "import pandas as pd\n",
    "\n",
    "df_left = pd.read_csv('test_LEFT.csv')\n",
    "df_right = pd.read_csv('test_RIGHT.csv')"
   ]
  },
  {
   "cell_type": "code",
   "execution_count": 37,
   "id": "e3d2f339",
   "metadata": {},
   "outputs": [
    {
     "data": {
      "text/html": [
       "<div>\n",
       "<style scoped>\n",
       "    .dataframe tbody tr th:only-of-type {\n",
       "        vertical-align: middle;\n",
       "    }\n",
       "\n",
       "    .dataframe tbody tr th {\n",
       "        vertical-align: top;\n",
       "    }\n",
       "\n",
       "    .dataframe thead th {\n",
       "        text-align: right;\n",
       "    }\n",
       "</style>\n",
       "<table border=\"1\" class=\"dataframe\">\n",
       "  <thead>\n",
       "    <tr style=\"text-align: right;\">\n",
       "      <th></th>\n",
       "      <th>Scan Name</th>\n",
       "      <th>Segmentation Name</th>\n",
       "      <th>Time Array</th>\n",
       "      <th>TIC</th>\n",
       "      <th>moderate-pselectin_diagnostics_Image-original_Mean</th>\n",
       "      <th>moderate-pselectin_diagnostics_Image-original_Minimum</th>\n",
       "      <th>moderate-pselectin_diagnostics_Image-original_Maximum</th>\n",
       "      <th>moderate-pselectin_diagnostics_Mask-original_VoxelNum</th>\n",
       "      <th>moderate-pselectin_diagnostics_Mask-original_VolumeNum</th>\n",
       "      <th>moderate-pselectin_diagnostics_Image-interpolated_Mean</th>\n",
       "      <th>...</th>\n",
       "      <th>moderate-pselectin_original_gldm_LargeDependenceLowGrayLevelEmphasis</th>\n",
       "      <th>moderate-pselectin_original_gldm_LowGrayLevelEmphasis</th>\n",
       "      <th>moderate-pselectin_original_gldm_SmallDependenceEmphasis</th>\n",
       "      <th>moderate-pselectin_original_gldm_SmallDependenceHighGrayLevelEmphasis</th>\n",
       "      <th>moderate-pselectin_original_gldm_SmallDependenceLowGrayLevelEmphasis</th>\n",
       "      <th>moderate-pselectin_original_ngtdm_Busyness</th>\n",
       "      <th>moderate-pselectin_original_ngtdm_Coarseness</th>\n",
       "      <th>moderate-pselectin_original_ngtdm_Complexity</th>\n",
       "      <th>moderate-pselectin_original_ngtdm_Contrast</th>\n",
       "      <th>moderate-pselectin_original_ngtdm_Strength</th>\n",
       "    </tr>\n",
       "  </thead>\n",
       "  <tbody>\n",
       "    <tr>\n",
       "      <th>0</th>\n",
       "      <td>20190215144608.915.nii</td>\n",
       "      <td>20190215144608.915_segmentation_LEFT</td>\n",
       "      <td>0.000000</td>\n",
       "      <td>28.045360</td>\n",
       "      <td>9.274426</td>\n",
       "      <td>0.0</td>\n",
       "      <td>232.0</td>\n",
       "      <td>3836</td>\n",
       "      <td>1</td>\n",
       "      <td>21.313281</td>\n",
       "      <td>...</td>\n",
       "      <td>144.463974</td>\n",
       "      <td>0.621710</td>\n",
       "      <td>0.035021</td>\n",
       "      <td>0.259561</td>\n",
       "      <td>0.011080</td>\n",
       "      <td>11.570647</td>\n",
       "      <td>0.012793</td>\n",
       "      <td>5.858626</td>\n",
       "      <td>0.030959</td>\n",
       "      <td>0.192909</td>\n",
       "    </tr>\n",
       "    <tr>\n",
       "      <th>1</th>\n",
       "      <td>20190215144608.915.nii</td>\n",
       "      <td>20190215144608.915_segmentation_LEFT</td>\n",
       "      <td>0.388381</td>\n",
       "      <td>32.526330</td>\n",
       "      <td>9.964072</td>\n",
       "      <td>0.0</td>\n",
       "      <td>231.0</td>\n",
       "      <td>3836</td>\n",
       "      <td>1</td>\n",
       "      <td>22.783636</td>\n",
       "      <td>...</td>\n",
       "      <td>73.544553</td>\n",
       "      <td>0.498678</td>\n",
       "      <td>0.035950</td>\n",
       "      <td>0.326932</td>\n",
       "      <td>0.012443</td>\n",
       "      <td>8.697885</td>\n",
       "      <td>0.013602</td>\n",
       "      <td>5.712844</td>\n",
       "      <td>0.029004</td>\n",
       "      <td>0.172821</td>\n",
       "    </tr>\n",
       "    <tr>\n",
       "      <th>2</th>\n",
       "      <td>20190215144608.915.nii</td>\n",
       "      <td>20190215144608.915_segmentation_LEFT</td>\n",
       "      <td>0.776762</td>\n",
       "      <td>28.943431</td>\n",
       "      <td>9.249087</td>\n",
       "      <td>0.0</td>\n",
       "      <td>231.0</td>\n",
       "      <td>3836</td>\n",
       "      <td>1</td>\n",
       "      <td>21.512490</td>\n",
       "      <td>...</td>\n",
       "      <td>154.923118</td>\n",
       "      <td>0.622465</td>\n",
       "      <td>0.041849</td>\n",
       "      <td>0.468040</td>\n",
       "      <td>0.008962</td>\n",
       "      <td>7.977904</td>\n",
       "      <td>0.013776</td>\n",
       "      <td>8.972479</td>\n",
       "      <td>0.025470</td>\n",
       "      <td>0.365099</td>\n",
       "    </tr>\n",
       "    <tr>\n",
       "      <th>3</th>\n",
       "      <td>20190215144608.915.nii</td>\n",
       "      <td>20190215144608.915_segmentation_LEFT</td>\n",
       "      <td>1.165143</td>\n",
       "      <td>38.465589</td>\n",
       "      <td>9.882621</td>\n",
       "      <td>0.0</td>\n",
       "      <td>231.0</td>\n",
       "      <td>3836</td>\n",
       "      <td>1</td>\n",
       "      <td>21.998735</td>\n",
       "      <td>...</td>\n",
       "      <td>51.153819</td>\n",
       "      <td>0.419625</td>\n",
       "      <td>0.037896</td>\n",
       "      <td>0.426214</td>\n",
       "      <td>0.011239</td>\n",
       "      <td>8.776897</td>\n",
       "      <td>0.015426</td>\n",
       "      <td>5.249009</td>\n",
       "      <td>0.046337</td>\n",
       "      <td>0.148077</td>\n",
       "    </tr>\n",
       "    <tr>\n",
       "      <th>4</th>\n",
       "      <td>20190215144608.915.nii</td>\n",
       "      <td>20190215144608.915_segmentation_LEFT</td>\n",
       "      <td>1.553523</td>\n",
       "      <td>29.094108</td>\n",
       "      <td>9.197667</td>\n",
       "      <td>0.0</td>\n",
       "      <td>231.0</td>\n",
       "      <td>3836</td>\n",
       "      <td>1</td>\n",
       "      <td>21.164427</td>\n",
       "      <td>...</td>\n",
       "      <td>141.873776</td>\n",
       "      <td>0.610953</td>\n",
       "      <td>0.041936</td>\n",
       "      <td>0.376157</td>\n",
       "      <td>0.012687</td>\n",
       "      <td>10.919269</td>\n",
       "      <td>0.013255</td>\n",
       "      <td>5.748726</td>\n",
       "      <td>0.031016</td>\n",
       "      <td>0.190269</td>\n",
       "    </tr>\n",
       "  </tbody>\n",
       "</table>\n",
       "<p>5 rows × 92 columns</p>\n",
       "</div>"
      ],
      "text/plain": [
       "                Scan Name                     Segmentation Name  Time Array  \\\n",
       "0  20190215144608.915.nii  20190215144608.915_segmentation_LEFT    0.000000   \n",
       "1  20190215144608.915.nii  20190215144608.915_segmentation_LEFT    0.388381   \n",
       "2  20190215144608.915.nii  20190215144608.915_segmentation_LEFT    0.776762   \n",
       "3  20190215144608.915.nii  20190215144608.915_segmentation_LEFT    1.165143   \n",
       "4  20190215144608.915.nii  20190215144608.915_segmentation_LEFT    1.553523   \n",
       "\n",
       "         TIC  moderate-pselectin_diagnostics_Image-original_Mean  \\\n",
       "0  28.045360                                           9.274426    \n",
       "1  32.526330                                           9.964072    \n",
       "2  28.943431                                           9.249087    \n",
       "3  38.465589                                           9.882621    \n",
       "4  29.094108                                           9.197667    \n",
       "\n",
       "   moderate-pselectin_diagnostics_Image-original_Minimum  \\\n",
       "0                                                0.0       \n",
       "1                                                0.0       \n",
       "2                                                0.0       \n",
       "3                                                0.0       \n",
       "4                                                0.0       \n",
       "\n",
       "   moderate-pselectin_diagnostics_Image-original_Maximum  \\\n",
       "0                                              232.0       \n",
       "1                                              231.0       \n",
       "2                                              231.0       \n",
       "3                                              231.0       \n",
       "4                                              231.0       \n",
       "\n",
       "   moderate-pselectin_diagnostics_Mask-original_VoxelNum  \\\n",
       "0                                               3836       \n",
       "1                                               3836       \n",
       "2                                               3836       \n",
       "3                                               3836       \n",
       "4                                               3836       \n",
       "\n",
       "   moderate-pselectin_diagnostics_Mask-original_VolumeNum  \\\n",
       "0                                                  1        \n",
       "1                                                  1        \n",
       "2                                                  1        \n",
       "3                                                  1        \n",
       "4                                                  1        \n",
       "\n",
       "   moderate-pselectin_diagnostics_Image-interpolated_Mean  ...  \\\n",
       "0                                          21.313281       ...   \n",
       "1                                          22.783636       ...   \n",
       "2                                          21.512490       ...   \n",
       "3                                          21.998735       ...   \n",
       "4                                          21.164427       ...   \n",
       "\n",
       "   moderate-pselectin_original_gldm_LargeDependenceLowGrayLevelEmphasis  \\\n",
       "0                                         144.463974                      \n",
       "1                                          73.544553                      \n",
       "2                                         154.923118                      \n",
       "3                                          51.153819                      \n",
       "4                                         141.873776                      \n",
       "\n",
       "   moderate-pselectin_original_gldm_LowGrayLevelEmphasis  \\\n",
       "0                                           0.621710       \n",
       "1                                           0.498678       \n",
       "2                                           0.622465       \n",
       "3                                           0.419625       \n",
       "4                                           0.610953       \n",
       "\n",
       "   moderate-pselectin_original_gldm_SmallDependenceEmphasis  \\\n",
       "0                                           0.035021          \n",
       "1                                           0.035950          \n",
       "2                                           0.041849          \n",
       "3                                           0.037896          \n",
       "4                                           0.041936          \n",
       "\n",
       "   moderate-pselectin_original_gldm_SmallDependenceHighGrayLevelEmphasis  \\\n",
       "0                                           0.259561                       \n",
       "1                                           0.326932                       \n",
       "2                                           0.468040                       \n",
       "3                                           0.426214                       \n",
       "4                                           0.376157                       \n",
       "\n",
       "   moderate-pselectin_original_gldm_SmallDependenceLowGrayLevelEmphasis  \\\n",
       "0                                           0.011080                      \n",
       "1                                           0.012443                      \n",
       "2                                           0.008962                      \n",
       "3                                           0.011239                      \n",
       "4                                           0.012687                      \n",
       "\n",
       "   moderate-pselectin_original_ngtdm_Busyness  \\\n",
       "0                                   11.570647   \n",
       "1                                    8.697885   \n",
       "2                                    7.977904   \n",
       "3                                    8.776897   \n",
       "4                                   10.919269   \n",
       "\n",
       "   moderate-pselectin_original_ngtdm_Coarseness  \\\n",
       "0                                      0.012793   \n",
       "1                                      0.013602   \n",
       "2                                      0.013776   \n",
       "3                                      0.015426   \n",
       "4                                      0.013255   \n",
       "\n",
       "   moderate-pselectin_original_ngtdm_Complexity  \\\n",
       "0                                      5.858626   \n",
       "1                                      5.712844   \n",
       "2                                      8.972479   \n",
       "3                                      5.249009   \n",
       "4                                      5.748726   \n",
       "\n",
       "   moderate-pselectin_original_ngtdm_Contrast  \\\n",
       "0                                    0.030959   \n",
       "1                                    0.029004   \n",
       "2                                    0.025470   \n",
       "3                                    0.046337   \n",
       "4                                    0.031016   \n",
       "\n",
       "   moderate-pselectin_original_ngtdm_Strength  \n",
       "0                                    0.192909  \n",
       "1                                    0.172821  \n",
       "2                                    0.365099  \n",
       "3                                    0.148077  \n",
       "4                                    0.190269  \n",
       "\n",
       "[5 rows x 92 columns]"
      ]
     },
     "execution_count": 37,
     "metadata": {},
     "output_type": "execute_result"
    }
   ],
   "source": [
    "df_left.head()"
   ]
  },
  {
   "cell_type": "code",
   "execution_count": 47,
   "id": "4fdcaf73",
   "metadata": {},
   "outputs": [],
   "source": [
    "dest_folder = 'output_curves'\n",
    "os.makedirs(dest_folder, exist_ok=True)"
   ]
  },
  {
   "cell_type": "code",
   "execution_count": 48,
   "id": "ede0a5a1",
   "metadata": {},
   "outputs": [],
   "source": [
    "import matplotlib.pyplot as plt\n",
    "\n",
    "time_l = df_left['Time Array']\n",
    "time_r = df_right['Time Array']\n",
    "for col_name in df_left.columns[2:]:\n",
    "    fig = plt.figure()\n",
    "    plt.plot(time_l, df_left[col_name], label='Left VOI (Tx)')\n",
    "    plt.plot(time_r, df_right[col_name], label='Right VOI (Ctrl)')\n",
    "    plt.xlabel('Time (s)')\n",
    "    plt.ylabel(col_name)\n",
    "    plt.legend()\n",
    "    fig.savefig(os.path.join(dest_folder, f'{col_name}.png'))\n",
    "    plt.close(fig)"
   ]
  },
  {
   "cell_type": "code",
   "execution_count": null,
   "id": "7754d07a",
   "metadata": {},
   "outputs": [
    {
     "data": {
      "text/plain": [
       "[<matplotlib.lines.Line2D at 0x7f2eacb08950>]"
      ]
     },
     "execution_count": 44,
     "metadata": {},
     "output_type": "execute_result"
    },
    {
     "data": {
      "image/png": "[encoded data removed]",
      "text/plain": [
       "<Figure size 640x480 with 1 Axes>"
      ]
     },
     "metadata": {},
     "output_type": "display_data"
    }
   ],
   "source": [
    "\n",
    "plt.plot(df_left['Time Array'], df_left['TIC'], label='Left VOI')\n",
    "plt.plot(df_right['Time Array'], df_right['TIC'], label='Right VOI')"
   ]
  },
  {
   "cell_type": "code",
   "execution_count": 46,
   "id": "71629a9c",
   "metadata": {},
   "outputs": [
    {
     "data": {
      "text/plain": [
       "[<matplotlib.lines.Line2D at 0x7f2eac7ed810>]"
      ]
     },
     "execution_count": 46,
     "metadata": {},
     "output_type": "execute_result"
    },
    {
     "data": {
      "image/png": "[encoded data removed]",
      "text/plain": [
       "<Figure size 640x480 with 1 Axes>"
      ]
     },
     "metadata": {},
     "output_type": "display_data"
    }
   ],
   "source": [
    "import matplotlib.pyplot as plt\n",
    "\n",
    "plt.plot(df_left['Time Array'], df_left['moderate-pselectin_original_gldm_SmallDependenceEmphasis'], label='Left VOI')\n",
    "plt.plot(df_right['Time Array'], df_right['moderate-pselectin_original_gldm_SmallDependenceEmphasis'], label='Right VOI')"
   ]
  },
  {
   "cell_type": "markdown",
   "id": "48f6aef6",
   "metadata": {},
   "source": [
    "## Curve Quantification"
   ]
  },
  {
   "cell_type": "code",
   "execution_count": 13,
   "id": "445fec06",
   "metadata": {},
   "outputs": [
    {
     "name": "stdout",
     "output_type": "stream",
     "text": [
      "Available quantification functions: dict_keys(['cmus_firstorder', 'dte', 'first_order', 'lognormal_fit', 'wash_rates'])\n"
     ]
    }
   ],
   "source": [
    "from src.curve_quantification.options import get_quantification_funcs\n",
    "\n",
    "quantification_funcs = get_quantification_funcs()\n",
    "print(\"Available quantification functions:\", quantification_funcs.keys())"
   ]
  },
  {
   "cell_type": "code",
   "execution_count": 14,
   "id": "53b6fb41",
   "metadata": {},
   "outputs": [],
   "source": [
    "function_names = [] # Empty list will use all functions\n",
    "output_path = 'test_quants.csv'\n",
    "curve_quantifications_kwargs = {\n",
    "    'curves_to_fit': ['moderate-pselectin_diagnostics_Image-original_Mean'],\n",
    "    'n_frames_to_analyze': 100,\n",
    "    'tic_name': 'moderate-pselectin_diagnostics_Image-original_Mean'\n",
    "}"
   ]
  },
  {
   "cell_type": "code",
   "execution_count": 15,
   "id": "b3b5d838",
   "metadata": {},
   "outputs": [],
   "source": [
    "from src.entrypoints import curve_quantification_step\n",
    "\n",
    "curve_quant = curve_quantification_step(analysis_obj, function_names, output_path, **curve_quantifications_kwargs)"
   ]
  }
 ],
 "metadata": {
  "kernelspec": {
   "display_name": "base",
   "language": "python",
   "name": "python3"
  },
  "language_info": {
   "codemirror_mode": {
    "name": "ipython",
    "version": 3
   },
   "file_extension": ".py",
   "mimetype": "text/x-python",
   "name": "python",
   "nbconvert_exporter": "python",
   "pygments_lexer": "ipython3",
   "version": "3.11.5"
  }
 },
 "nbformat": 4,
 "nbformat_minor": 5
}
