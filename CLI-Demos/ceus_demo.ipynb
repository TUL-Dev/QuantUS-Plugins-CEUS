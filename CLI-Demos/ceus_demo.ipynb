{
 "cells": [
  {
   "cell_type": "code",
   "execution_count": 2,
   "id": "864b1626",
   "metadata": {},
   "outputs": [
    {
     "name": "stdout",
     "output_type": "stream",
     "text": [
      "/home/das/QuantUS_Projs/QuantUS-Plugins-CEUS/src/processing\n",
      "/home/das/QuantUS_Projs/QuantUS-Plugins-CEUS\n"
     ]
    }
   ],
   "source": [
    "%reload_ext autoreload\n",
    "%autoreload 2\n",
    "\n",
    "import os\n",
    "from pathlib import Path\n",
    "\n",
    "print(Path().cwd())\n",
    "os.chdir(Path(os.getcwd()).parents[1])\n",
    "print(Path().cwd())"
   ]
  },
  {
   "cell_type": "markdown",
   "id": "3926872e",
   "metadata": {},
   "source": [
    "## Select Contrast-Enhanced Ultrasound (CEUS) Cine and Parser"
   ]
  },
  {
   "cell_type": "code",
   "execution_count": 23,
   "id": "8171c88c",
   "metadata": {},
   "outputs": [
    {
     "name": "stdout",
     "output_type": "stream",
     "text": [
      "Available scan loaders: ['nifti']\n"
     ]
    }
   ],
   "source": [
    "from src.image_loading.options import get_scan_loaders\n",
    "\n",
    "print(\"Available scan loaders:\", list(get_scan_loaders().keys()))"
   ]
  },
  {
   "cell_type": "code",
   "execution_count": null,
   "id": "dea81c33",
   "metadata": {},
   "outputs": [],
   "source": [
    "scan_type = 'nifti'\n",
    "\n",
    "scan_path = '/media/das/TOSHIBA EXT/Animal Data/Molecular/m907/20150410121501.008 KDR.nii.gz'\n",
    "scan_loader_kwargs = {}"
   ]
  },
  {
   "cell_type": "code",
   "execution_count": null,
   "id": "e053b4b8",
   "metadata": {},
   "outputs": [],
   "source": [
    "from src.entrypoints import scan_loading_step\n",
    "\n",
    "image_data = scan_loading_step(scan_type, scan_path, **scan_loader_kwargs)"
   ]
  },
  {
   "cell_type": "markdown",
   "id": "f7685968",
   "metadata": {},
   "source": [
    "## Load Segmentation\n",
    "\n",
    "Assumes same segmentation for each frame"
   ]
  },
  {
   "cell_type": "code",
   "execution_count": 24,
   "id": "662f44fa",
   "metadata": {},
   "outputs": [
    {
     "name": "stdout",
     "output_type": "stream",
     "text": [
      "Available segmentation loaders: ['nifti_voi', 'load_bolus_mask']\n"
     ]
    }
   ],
   "source": [
    "from src.seg_loading.options import get_seg_loaders\n",
    "\n",
    "print(\"Available segmentation loaders:\", list(get_seg_loaders().keys()))"
   ]
  },
  {
   "cell_type": "code",
   "execution_count": null,
   "id": "7abf0e1f",
   "metadata": {},
   "outputs": [],
   "source": [
    "seg_type = 'nifti_voi'\n",
    "\n",
    "seg_path = '/media/das/TOSHIBA EXT/Animal Data/Molecular/m907/nifti_segmentation_QUANTUS/20150410121501.008_KDR_segmentation.nii.gz'\n",
    "seg_loader_kwargs = {}"
   ]
  },
  {
   "cell_type": "code",
   "execution_count": null,
   "id": "449ee285",
   "metadata": {},
   "outputs": [],
   "source": [
    "from src.entrypoints import seg_loading_step\n",
    "\n",
    "seg_data = seg_loading_step(seg_type, image_data, seg_path, scan_path, **seg_loader_kwargs)"
   ]
  },
  {
   "cell_type": "markdown",
   "id": "ca7f4a42",
   "metadata": {},
   "source": [
    "## CEUS Quantitative Temporal Curve Analysis"
   ]
  },
  {
   "cell_type": "code",
   "execution_count": 5,
   "id": "62b55e9b",
   "metadata": {},
   "outputs": [
    {
     "name": "stdout",
     "output_type": "stream",
     "text": [
      "Available analysis types: ['ttc_curves']\n"
     ]
    }
   ],
   "source": [
    "from src.ttc_analysis.options import get_analysis_types, get_required_kwargs\n",
    "\n",
    "all_analysis_types, all_analysis_funcs = get_analysis_types()\n",
    "print(\"Available analysis types:\", list(all_analysis_types.keys()))"
   ]
  },
  {
   "cell_type": "code",
   "execution_count": 6,
   "id": "55f11918",
   "metadata": {},
   "outputs": [
    {
     "name": "stdout",
     "output_type": "stream",
     "text": [
      "Available analysis functions: ['pyradiomics']\n"
     ]
    }
   ],
   "source": [
    "analysis_type = 'ttc_curves'\n",
    "\n",
    "print(\"Available analysis functions:\", list(all_analysis_funcs[analysis_type].keys()))"
   ]
  },
  {
   "cell_type": "code",
   "execution_count": 8,
   "id": "51bbcad0",
   "metadata": {},
   "outputs": [
    {
     "name": "stdout",
     "output_type": "stream",
     "text": [
      "Required kwargs for current analysis: ['pyradiomics_config_path']\n"
     ]
    }
   ],
   "source": [
    "analysis_funcs = ['pyradiomics']\n",
    "\n",
    "# Find all required kwargs for the analysis functions\n",
    "analysis_funcs = analysis_funcs if len(analysis_funcs) else list(all_analysis_funcs[analysis_type].keys())\n",
    "required_kwargs = get_required_kwargs(analysis_type, analysis_funcs)\n",
    "print(\"Required kwargs for current analysis:\", required_kwargs)"
   ]
  },
  {
   "cell_type": "code",
   "execution_count": 9,
   "id": "81503d34",
   "metadata": {},
   "outputs": [],
   "source": [
    "analysis_kwargs = {\n",
    "    'pyradiomics_config_paths': [\n",
    "        '/home/das/QuantUS_Projs/QuantUS-Plugins-CEUS/configs/pyradiomics/moderate.yml',\n",
    "    ],\n",
    "    'curves_output_path': 'test.csv',\n",
    "}"
   ]
  },
  {
   "cell_type": "code",
   "execution_count": null,
   "id": "4b13d151",
   "metadata": {},
   "outputs": [
    {
     "name": "stderr",
     "output_type": "stream",
     "text": [
      "Computing curves: 100%|██████████| 19/19 [00:30<00:00,  1.60s/it]\n"
     ]
    }
   ],
   "source": [
    "from src.entrypoints import analysis_step\n",
    "\n",
    "analysis_obj = analysis_step(analysis_type, image_data, seg_data, analysis_funcs, **analysis_kwargs)"
   ]
  }
 ],
 "metadata": {
  "kernelspec": {
   "display_name": "base",
   "language": "python",
   "name": "python3"
  },
  "language_info": {
   "codemirror_mode": {
    "name": "ipython",
    "version": 3
   },
   "file_extension": ".py",
   "mimetype": "text/x-python",
   "name": "python",
   "nbconvert_exporter": "python",
   "pygments_lexer": "ipython3",
   "version": "3.11.5"
  }
 },
 "nbformat": 4,
 "nbformat_minor": 5
}
