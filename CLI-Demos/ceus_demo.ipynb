{
 "cells": [
  {
   "cell_type": "code",
   "execution_count": 1,
   "id": "864b1626",
   "metadata": {},
   "outputs": [
    {
     "name": "stdout",
     "output_type": "stream",
     "text": [
      "/home/das/QuantUS_Projs/QuantUS-Plugins-CEUS/CLI-Demos\n",
      "/home/das/QuantUS_Projs/QuantUS-Plugins-CEUS\n"
     ]
    }
   ],
   "source": [
    "%reload_ext autoreload\n",
    "%autoreload 2\n",
    "\n",
    "import os\n",
    "from pathlib import Path\n",
    "\n",
    "print(Path().cwd())\n",
    "os.chdir(Path(os.getcwd()).parent)\n",
    "print(Path().cwd())"
   ]
  },
  {
   "cell_type": "markdown",
   "id": "3926872e",
   "metadata": {},
   "source": [
    "## Select Contrast-Enhanced Ultrasound (CEUS) Cine and Parser"
   ]
  },
  {
   "cell_type": "code",
   "execution_count": 2,
   "id": "8171c88c",
   "metadata": {},
   "outputs": [
    {
     "name": "stdout",
     "output_type": "stream",
     "text": [
      "Available scan loaders: ['nifti']\n"
     ]
    }
   ],
   "source": [
    "from src.image_loading.options import get_scan_loaders\n",
    "\n",
    "print(\"Available scan loaders:\", list(get_scan_loaders().keys()))"
   ]
  },
  {
   "cell_type": "code",
   "execution_count": 3,
   "id": "dea81c33",
   "metadata": {},
   "outputs": [],
   "source": [
    "scan_type = 'nifti'\n",
    "\n",
    "scan_path = '/media/das/TOSHIBA EXT/P-Selectin Data/July 2019 US imaging study Mice/July 2019 batch 3 imaging day 1/July2019mouse1imagingday1/20190725103303.756.nii.gz'\n",
    "scan_loader_kwargs = {\n",
    "    'transpose': False,\n",
    "}"
   ]
  },
  {
   "cell_type": "code",
   "execution_count": 4,
   "id": "e053b4b8",
   "metadata": {},
   "outputs": [],
   "source": [
    "from src.entrypoints import scan_loading_step\n",
    "\n",
    "image_data = scan_loading_step(scan_type, scan_path, **scan_loader_kwargs)"
   ]
  },
  {
   "cell_type": "markdown",
   "id": "f7685968",
   "metadata": {},
   "source": [
    "## Load Segmentation\n",
    "\n",
    "Assumes same segmentation for each frame"
   ]
  },
  {
   "cell_type": "code",
   "execution_count": 5,
   "id": "662f44fa",
   "metadata": {},
   "outputs": [
    {
     "name": "stdout",
     "output_type": "stream",
     "text": [
      "Available segmentation loaders: ['nifti_voi', 'load_bolus_mask']\n"
     ]
    }
   ],
   "source": [
    "from src.seg_loading.options import get_seg_loaders\n",
    "\n",
    "print(\"Available segmentation loaders:\", list(get_seg_loaders().keys()))"
   ]
  },
  {
   "cell_type": "code",
   "execution_count": 6,
   "id": "7abf0e1f",
   "metadata": {},
   "outputs": [],
   "source": [
    "seg_type = 'nifti_voi'\n",
    "\n",
    "seg_path = '/media/das/TOSHIBA EXT/P-Selectin Data/July VOIs (Ashley)/20190725103303.756_segmentation_LEFT.nii.gz'\n",
    "seg_loader_kwargs = {}"
   ]
  },
  {
   "cell_type": "code",
   "execution_count": 7,
   "id": "449ee285",
   "metadata": {},
   "outputs": [],
   "source": [
    "from src.entrypoints import seg_loading_step\n",
    "\n",
    "seg_data = seg_loading_step(seg_type, image_data, seg_path, scan_path, **seg_loader_kwargs)"
   ]
  },
  {
   "cell_type": "markdown",
   "id": "ca7f4a42",
   "metadata": {},
   "source": [
    "## CEUS Quantitative Temporal Curve Analysis"
   ]
  },
  {
   "cell_type": "code",
   "execution_count": 8,
   "id": "62b55e9b",
   "metadata": {},
   "outputs": [
    {
     "name": "stdout",
     "output_type": "stream",
     "text": [
      "Available analysis types: ['curves', 'curves_paramap']\n"
     ]
    }
   ],
   "source": [
    "from src.time_series_analysis.options import get_analysis_types, get_required_kwargs\n",
    "\n",
    "all_analysis_types, all_analysis_funcs = get_analysis_types()\n",
    "print(\"Available analysis types:\", list(all_analysis_types.keys()))"
   ]
  },
  {
   "cell_type": "code",
   "execution_count": 9,
   "id": "55f11918",
   "metadata": {},
   "outputs": [
    {
     "name": "stdout",
     "output_type": "stream",
     "text": [
      "Available analysis functions: ['pyradiomics', 'tic']\n"
     ]
    }
   ],
   "source": [
    "analysis_type = 'curves_paramap'\n",
    "\n",
    "print(\"Available analysis functions:\", list(all_analysis_funcs.keys()))"
   ]
  },
  {
   "cell_type": "code",
   "execution_count": 10,
   "id": "51bbcad0",
   "metadata": {},
   "outputs": [
    {
     "name": "stdout",
     "output_type": "stream",
     "text": [
      "Required kwargs for current analysis: ['cor_vox_len', 'ax_vox_len', 'ax_vox_ovrlp', 'sag_vox_ovrlp', 'cor_vox_ovrlp', 'sag_vox_len']\n"
     ]
    }
   ],
   "source": [
    "analysis_funcs = ['tic']\n",
    "\n",
    "# Find all required kwargs for the analysis functions\n",
    "analysis_funcs = analysis_funcs if len(analysis_funcs) else list(all_analysis_funcs[analysis_type].keys())\n",
    "required_kwargs = get_required_kwargs(analysis_type, analysis_funcs)\n",
    "print(\"Required kwargs for current analysis:\", required_kwargs)"
   ]
  },
  {
   "cell_type": "code",
   "execution_count": 11,
   "id": "81503d34",
   "metadata": {},
   "outputs": [],
   "source": [
    "analysis_kwargs = {\n",
    "    'ax_vox_ovrlp': 50,  # %\n",
    "    'sag_vox_ovrlp': 50,  # %\n",
    "    'cor_vox_ovrlp': 50,  # %\n",
    "    'ax_vox_len': 5.0,  # mm\n",
    "    'sag_vox_len': 5.0,  # mm\n",
    "    'cor_vox_len': 5.0,  # mm\n",
    "    'pyradiomics_config_paths': [\n",
    "        '/home/das/QuantUS_Projs/QuantUS-Plugins-CEUS/configs/pyradiomics/moderate-pselectin.yml',\n",
    "    ],\n",
    "    'curves_output_path': 'test2.csv',\n",
    "}"
   ]
  },
  {
   "cell_type": "code",
   "execution_count": 12,
   "id": "4b13d151",
   "metadata": {},
   "outputs": [
    {
     "name": "stderr",
     "output_type": "stream",
     "text": [
      "Computing curves: 100%|██████████| 391/391 [00:16<00:00, 23.14it/s]\n"
     ]
    }
   ],
   "source": [
    "from src.entrypoints import analysis_step\n",
    "\n",
    "analysis_obj = analysis_step(analysis_type, image_data, seg_data, analysis_funcs, **analysis_kwargs)"
   ]
  },
  {
   "cell_type": "code",
   "execution_count": 13,
   "id": "6c033290",
   "metadata": {},
   "outputs": [
    {
     "data": {
      "text/plain": [
       "72"
      ]
     },
     "execution_count": 13,
     "metadata": {},
     "output_type": "execute_result"
    }
   ],
   "source": [
    "len(analysis_obj.curves)"
   ]
  },
  {
   "cell_type": "markdown",
   "id": "48f6aef6",
   "metadata": {},
   "source": [
    "## Curve Quantification"
   ]
  },
  {
   "cell_type": "code",
   "execution_count": 14,
   "id": "445fec06",
   "metadata": {},
   "outputs": [
    {
     "name": "stdout",
     "output_type": "stream",
     "text": [
      "Available quantification functions: dict_keys(['auc_no_fit', 'cmus_firstorder', 'dte', 'first_order', 'lognormal_fit', 'wash_rates'])\n"
     ]
    }
   ],
   "source": [
    "from src.curve_quantification.options import get_quantification_funcs\n",
    "\n",
    "quantification_funcs = get_quantification_funcs()\n",
    "print(\"Available quantification functions:\", quantification_funcs.keys())"
   ]
  },
  {
   "cell_type": "code",
   "execution_count": 15,
   "id": "53b6fb41",
   "metadata": {},
   "outputs": [],
   "source": [
    "function_names = ['dte'] # Empty list will use all functions\n",
    "output_path = 'test_quants.csv'\n",
    "curve_quantifications_kwargs = {\n",
    "    'curves_to_fit': ['moderate-pselectin_diagnostics_Image-original_Mean'],\n",
    "    'n_frames_to_analyze': 100,\n",
    "    'tic_name': 'TIC'\n",
    "}"
   ]
  },
  {
   "cell_type": "code",
   "execution_count": 16,
   "id": "b3b5d838",
   "metadata": {},
   "outputs": [],
   "source": [
    "from src.entrypoints import curve_quantification_step\n",
    "\n",
    "curve_quant = curve_quantification_step(analysis_obj, function_names, output_path, **curve_quantifications_kwargs)"
   ]
  },
  {
   "cell_type": "markdown",
   "id": "339b2515",
   "metadata": {},
   "source": [
    "## Parametric Map Visualizations"
   ]
  },
  {
   "cell_type": "code",
   "execution_count": 17,
   "id": "ce85e831",
   "metadata": {},
   "outputs": [
    {
     "name": "stdout",
     "output_type": "stream",
     "text": [
      "Available visualization types: ['paramap']\n",
      "Available visualization functions: []\n"
     ]
    }
   ],
   "source": [
    "from src.visualizations.options import get_visualization_types\n",
    "\n",
    "types, funcs = get_visualization_types()\n",
    "print(\"Available visualization types:\", list(types.keys()))\n",
    "print(\"Available visualization functions:\", list(funcs.keys()))"
   ]
  },
  {
   "cell_type": "code",
   "execution_count": 18,
   "id": "9e935048",
   "metadata": {},
   "outputs": [],
   "source": [
    "vis_type = 'paramap'\n",
    "params = [] # Empty list will use all parameters \n",
    "vis_funcs = []\n",
    "vis_kwargs = {\n",
    "    'paramap_folder_path': 'paramaps',\n",
    "    'hide_all_visualizations': False,  # Set to True to hide all visualizations\n",
    "}"
   ]
  },
  {
   "cell_type": "code",
   "execution_count": 19,
   "id": "03228f94",
   "metadata": {},
   "outputs": [],
   "source": [
    "from src.entrypoints import visualization_step\n",
    "\n",
    "vis_obj = visualization_step(curve_quant, vis_type, params, vis_funcs, **vis_kwargs)"
   ]
  }
 ],
 "metadata": {
  "kernelspec": {
   "display_name": "QuantUS-env",
   "language": "python",
   "name": "python3"
  },
  "language_info": {
   "codemirror_mode": {
    "name": "ipython",
    "version": 3
   },
   "file_extension": ".py",
   "mimetype": "text/x-python",
   "name": "python",
   "nbconvert_exporter": "python",
   "pygments_lexer": "ipython3",
   "version": "3.11.6"
  }
 },
 "nbformat": 4,
 "nbformat_minor": 5
}
