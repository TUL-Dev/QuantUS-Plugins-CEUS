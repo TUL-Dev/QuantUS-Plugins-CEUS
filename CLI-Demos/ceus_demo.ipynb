{
 "cells": [
  {
   "cell_type": "code",
   "execution_count": 1,
   "id": "864b1626",
   "metadata": {},
   "outputs": [
    {
     "name": "stdout",
     "output_type": "stream",
     "text": [
      "/Users/davidspector/Home/Stanford/QuantUS Projects/QuantUS-Plugins-CEUS/CLI-Demos\n",
      "/Users/davidspector/Home/Stanford/QuantUS Projects/QuantUS-Plugins-CEUS\n"
     ]
    }
   ],
   "source": [
    "%reload_ext autoreload\n",
    "%autoreload 2\n",
    "\n",
    "import os\n",
    "from pathlib import Path\n",
    "\n",
    "print(Path().cwd())\n",
    "os.chdir(Path(os.getcwd()).parent)\n",
    "print(Path().cwd())"
   ]
  },
  {
   "cell_type": "markdown",
   "id": "3926872e",
   "metadata": {},
   "source": [
    "## Select Contrast-Enhanced Ultrasound (CEUS) Cine and Parser"
   ]
  },
  {
   "cell_type": "code",
   "execution_count": 2,
   "id": "8171c88c",
   "metadata": {},
   "outputs": [
    {
     "name": "stdout",
     "output_type": "stream",
     "text": [
      "Available scan loaders: ['nifti']\n"
     ]
    }
   ],
   "source": [
    "from src.image_loading.options import get_scan_loaders\n",
    "\n",
    "print(\"Available scan loaders:\", list(get_scan_loaders().keys()))"
   ]
  },
  {
   "cell_type": "code",
   "execution_count": 3,
   "id": "dea81c33",
   "metadata": {},
   "outputs": [],
   "source": [
    "scan_type = 'nifti'\n",
    "\n",
    "scan_path = '/Volumes/TOSHIBA EXT/P-Selectin Data/July 2019 US imaging study Mice/July 2019 batch 3 imaging day 1/July2019mouse1imagingday1/20190725103303.756.nii.gz'\n",
    "scan_loader_kwargs = {\n",
    "    'transpose': False,\n",
    "}"
   ]
  },
  {
   "cell_type": "code",
   "execution_count": 4,
   "id": "e053b4b8",
   "metadata": {},
   "outputs": [],
   "source": [
    "from src.entrypoints import scan_loading_step\n",
    "\n",
    "image_data = scan_loading_step(scan_type, scan_path, **scan_loader_kwargs)"
   ]
  },
  {
   "cell_type": "markdown",
   "id": "f7685968",
   "metadata": {},
   "source": [
    "## Load Segmentation\n",
    "\n",
    "Assumes same segmentation for each frame"
   ]
  },
  {
   "cell_type": "code",
   "execution_count": 5,
   "id": "662f44fa",
   "metadata": {},
   "outputs": [
    {
     "name": "stdout",
     "output_type": "stream",
     "text": [
      "Available segmentation loaders: ['nifti_voi', 'load_bolus_mask']\n"
     ]
    }
   ],
   "source": [
    "from src.seg_loading.options import get_seg_loaders\n",
    "\n",
    "print(\"Available segmentation loaders:\", list(get_seg_loaders().keys()))"
   ]
  },
  {
   "cell_type": "code",
   "execution_count": 6,
   "id": "7abf0e1f",
   "metadata": {},
   "outputs": [],
   "source": [
    "seg_type = 'nifti_voi'\n",
    "\n",
    "seg_path = '/Volumes/TOSHIBA EXT/P-Selectin Data/July VOIs (Ashley)/20190725103303.756_segmentation_LEFT.nii.gz'\n",
    "seg_loader_kwargs = {}"
   ]
  },
  {
   "cell_type": "code",
   "execution_count": 7,
   "id": "449ee285",
   "metadata": {},
   "outputs": [],
   "source": [
    "from src.entrypoints import seg_loading_step\n",
    "\n",
    "seg_data = seg_loading_step(seg_type, image_data, seg_path, scan_path, **seg_loader_kwargs)"
   ]
  },
  {
   "cell_type": "markdown",
   "id": "ca7f4a42",
   "metadata": {},
   "source": [
    "## CEUS Quantitative Temporal Curve Analysis"
   ]
  },
  {
   "cell_type": "code",
   "execution_count": 8,
   "id": "62b55e9b",
   "metadata": {},
   "outputs": [
    {
     "name": "stdout",
     "output_type": "stream",
     "text": [
      "Available analysis types: ['curves_paramap', 'curves']\n"
     ]
    }
   ],
   "source": [
    "from src.time_series_analysis.options import get_analysis_types, get_required_kwargs\n",
    "\n",
    "all_analysis_types, all_analysis_funcs = get_analysis_types()\n",
    "print(\"Available analysis types:\", list(all_analysis_types.keys()))"
   ]
  },
  {
   "cell_type": "code",
   "execution_count": 9,
   "id": "55f11918",
   "metadata": {},
   "outputs": [
    {
     "name": "stdout",
     "output_type": "stream",
     "text": [
      "Available analysis functions: ['pyradiomics', 'tic']\n"
     ]
    }
   ],
   "source": [
    "analysis_type = 'curves_paramap'\n",
    "\n",
    "print(\"Available analysis functions:\", list(all_analysis_funcs.keys()))"
   ]
  },
  {
   "cell_type": "code",
   "execution_count": 10,
   "id": "51bbcad0",
   "metadata": {},
   "outputs": [
    {
     "name": "stdout",
     "output_type": "stream",
     "text": [
      "Required kwargs for current analysis: ['ax_vox_len', 'cor_vox_ovrlp', 'sag_vox_ovrlp', 'cor_vox_len', 'sag_vox_len', 'ax_vox_ovrlp']\n"
     ]
    }
   ],
   "source": [
    "analysis_funcs = ['tic']\n",
    "\n",
    "# Find all required kwargs for the analysis functions\n",
    "analysis_funcs = analysis_funcs if len(analysis_funcs) else list(all_analysis_funcs[analysis_type].keys())\n",
    "required_kwargs = get_required_kwargs(analysis_type, analysis_funcs)\n",
    "print(\"Required kwargs for current analysis:\", required_kwargs)"
   ]
  },
  {
   "cell_type": "code",
   "execution_count": 19,
   "id": "81503d34",
   "metadata": {},
   "outputs": [],
   "source": [
    "analysis_kwargs = {\n",
    "    'ax_vox_ovrlp': 50,  # %\n",
    "    'sag_vox_ovrlp': 50,  # %\n",
    "    'cor_vox_ovrlp': 50,  # %\n",
    "    'ax_vox_len': 5.0,  # mm\n",
    "    'sag_vox_len': 5.0,  # mm\n",
    "    'cor_vox_len': 5.0,  # mm\n",
    "    'pyradiomics_config_paths': [\n",
    "        '/home/das/QuantUS_Projs/QuantUS-Plugins-CEUS/configs/pyradiomics/moderate-pselectin.yml',\n",
    "    ],\n",
    "    'curves_output_path': 'test2.csv',\n",
    "}"
   ]
  },
  {
   "cell_type": "code",
   "execution_count": 20,
   "id": "4b13d151",
   "metadata": {},
   "outputs": [
    {
     "name": "stderr",
     "output_type": "stream",
     "text": [
      "Computing curves:   0%|          | 0/391 [00:00<?, ?it/s]\n"
     ]
    },
    {
     "ename": "IndexError",
     "evalue": "boolean index did not match indexed array along axis 0; size of axis is 112 but size of corresponding boolean axis is 3",
     "output_type": "error",
     "traceback": [
      "\u001b[0;31m---------------------------------------------------------------------------\u001b[0m",
      "\u001b[0;31mIndexError\u001b[0m                                Traceback (most recent call last)",
      "Cell \u001b[0;32mIn[20], line 3\u001b[0m\n\u001b[1;32m      1\u001b[0m \u001b[38;5;28;01mfrom\u001b[39;00m \u001b[38;5;21;01msrc\u001b[39;00m\u001b[38;5;21;01m.\u001b[39;00m\u001b[38;5;21;01mentrypoints\u001b[39;00m \u001b[38;5;28;01mimport\u001b[39;00m analysis_step\n\u001b[0;32m----> 3\u001b[0m analysis_obj \u001b[38;5;241m=\u001b[39m analysis_step(analysis_type, image_data, seg_data, analysis_funcs, \u001b[38;5;241m*\u001b[39m\u001b[38;5;241m*\u001b[39manalysis_kwargs)\n",
      "File \u001b[0;32m~/Home/Stanford/QuantUS Projects/QuantUS-Plugins-CEUS/src/entrypoints.py:103\u001b[0m, in \u001b[0;36manalysis_step\u001b[0;34m(analysis_type, image_data, seg_data, analysis_funcs, **analysis_kwargs)\u001b[0m\n\u001b[1;32m    100\u001b[0m analyzed_image_data \u001b[38;5;241m=\u001b[39m copy\u001b[38;5;241m.\u001b[39mdeepcopy(image_data)\n\u001b[1;32m    102\u001b[0m analysis_obj \u001b[38;5;241m=\u001b[39m analysis_class(analyzed_image_data, seg_data, analysis_funcs, \u001b[38;5;241m*\u001b[39m\u001b[38;5;241m*\u001b[39manalysis_kwargs)\n\u001b[0;32m--> 103\u001b[0m analysis_obj\u001b[38;5;241m.\u001b[39mcompute_curves()\n\u001b[1;32m    105\u001b[0m \u001b[38;5;28;01mreturn\u001b[39;00m analysis_obj\n",
      "File \u001b[0;32m~/Home/Stanford/QuantUS Projects/QuantUS-Plugins-CEUS/src/time_series_analysis/curves_paramap/framework.py:85\u001b[0m, in \u001b[0;36mCurvesParamapAnalysis.compute_curves\u001b[0;34m(self)\u001b[0m\n\u001b[1;32m     81\u001b[0m             ax_start, sag_start, ax_end, sag_end \u001b[38;5;241m=\u001b[39m window\n\u001b[1;32m     82\u001b[0m             mask \u001b[38;5;241m=\u001b[39m \u001b[38;5;28mself\u001b[39m\u001b[38;5;241m.\u001b[39mimage_data\u001b[38;5;241m.\u001b[39mintensities_for_analysis[ax_start:ax_end, \n\u001b[1;32m     83\u001b[0m                                                              sag_start:sag_end,\n\u001b[1;32m     84\u001b[0m                                                              frame]\n\u001b[0;32m---> 85\u001b[0m         \u001b[38;5;28mself\u001b[39m\u001b[38;5;241m.\u001b[39mextract_frame_features(frame_data, mask, frame_ix, window_ix)\n\u001b[1;32m     87\u001b[0m \u001b[38;5;28;01mif\u001b[39;00m \u001b[38;5;28mself\u001b[39m\u001b[38;5;241m.\u001b[39mcurves_output_path \u001b[38;5;129;01mis\u001b[39;00m \u001b[38;5;129;01mnot\u001b[39;00m \u001b[38;5;28;01mNone\u001b[39;00m:\n\u001b[1;32m     88\u001b[0m     \u001b[38;5;28mself\u001b[39m\u001b[38;5;241m.\u001b[39msave_curves()\n",
      "File \u001b[0;32m~/Home/Stanford/QuantUS Projects/QuantUS-Plugins-CEUS/src/time_series_analysis/curves_paramap/framework.py:110\u001b[0m, in \u001b[0;36mCurvesParamapAnalysis.extract_frame_features\u001b[0;34m(self, frame, mask, frame_ix, window_ix)\u001b[0m\n\u001b[1;32m    108\u001b[0m \u001b[38;5;28;01mfor\u001b[39;00m curve_group \u001b[38;5;129;01min\u001b[39;00m \u001b[38;5;28mself\u001b[39m\u001b[38;5;241m.\u001b[39mcurve_groups:\n\u001b[1;32m    109\u001b[0m     curve_function \u001b[38;5;241m=\u001b[39m \u001b[38;5;28mself\u001b[39m\u001b[38;5;241m.\u001b[39mcurve_funcs[curve_group]\n\u001b[0;32m--> 110\u001b[0m     curve_names, vals \u001b[38;5;241m=\u001b[39m curve_function(\u001b[38;5;28mself\u001b[39m\u001b[38;5;241m.\u001b[39mimage_data, frame, mask, \u001b[38;5;241m*\u001b[39m\u001b[38;5;241m*\u001b[39m\u001b[38;5;28mself\u001b[39m\u001b[38;5;241m.\u001b[39manalysis_kwargs)\n\u001b[1;32m    112\u001b[0m     \u001b[38;5;28;01mfor\u001b[39;00m name, val \u001b[38;5;129;01min\u001b[39;00m \u001b[38;5;28mzip\u001b[39m(curve_names, vals):\n\u001b[1;32m    113\u001b[0m         \u001b[38;5;28;01mif\u001b[39;00m name \u001b[38;5;129;01mnot\u001b[39;00m \u001b[38;5;129;01min\u001b[39;00m \u001b[38;5;28mself\u001b[39m\u001b[38;5;241m.\u001b[39mcurves[window_ix]:\n",
      "File \u001b[0;32m~/Home/Stanford/QuantUS Projects/QuantUS-Plugins-CEUS/src/time_series_analysis/curve_types/functions.py:70\u001b[0m, in \u001b[0;36mtic\u001b[0;34m(image_data, frame, mask, **kwargs)\u001b[0m\n\u001b[1;32m     56\u001b[0m \u001b[38;5;250m\u001b[39m\u001b[38;5;124;03m\"\"\"\u001b[39;00m\n\u001b[1;32m     57\u001b[0m \u001b[38;5;124;03mExtract Time Intensity Curve (TIC) features from the ultrasound image data.\u001b[39;00m\n\u001b[1;32m     58\u001b[0m \u001b[38;5;124;03m\u001b[39;00m\n\u001b[0;32m   (...)\u001b[0m\n\u001b[1;32m     66\u001b[0m \u001b[38;5;124;03m    Tuple[List[str], List[np.ndarray]]: A tuple containing the feature names and their corresponding values.\u001b[39;00m\n\u001b[1;32m     67\u001b[0m \u001b[38;5;124;03m\"\"\"\u001b[39;00m\n\u001b[1;32m     68\u001b[0m \u001b[38;5;28;01massert\u001b[39;00m \u001b[38;5;28misinstance\u001b[39m(image_data, UltrasoundImage), \u001b[38;5;124m\"\u001b[39m\u001b[38;5;124mimage_data must be an instance of UltrasoundImage\u001b[39m\u001b[38;5;124m\"\u001b[39m\n\u001b[0;32m---> 70\u001b[0m tic_curve \u001b[38;5;241m=\u001b[39m np\u001b[38;5;241m.\u001b[39mmean(frame[mask \u001b[38;5;241m>\u001b[39m \u001b[38;5;241m0\u001b[39m], axis\u001b[38;5;241m=\u001b[39m\u001b[38;5;241m0\u001b[39m)\n\u001b[1;32m     71\u001b[0m \u001b[38;5;28;01mreturn\u001b[39;00m [\u001b[38;5;124m'\u001b[39m\u001b[38;5;124mTIC\u001b[39m\u001b[38;5;124m'\u001b[39m], [tic_curve]\n",
      "\u001b[0;31mIndexError\u001b[0m: boolean index did not match indexed array along axis 0; size of axis is 112 but size of corresponding boolean axis is 3"
     ]
    }
   ],
   "source": [
    "from src.entrypoints import analysis_step\n",
    "\n",
    "analysis_obj = analysis_step(analysis_type, image_data, seg_data, analysis_funcs, **analysis_kwargs)"
   ]
  },
  {
   "cell_type": "markdown",
   "id": "48f6aef6",
   "metadata": {},
   "source": [
    "## Curve Quantification"
   ]
  },
  {
   "cell_type": "code",
   "execution_count": 13,
   "id": "445fec06",
   "metadata": {},
   "outputs": [
    {
     "name": "stdout",
     "output_type": "stream",
     "text": [
      "Available quantification functions: dict_keys(['cmus_firstorder', 'dte', 'first_order', 'lognormal_fit', 'wash_rates'])\n"
     ]
    }
   ],
   "source": [
    "from src.curve_quantification.options import get_quantification_funcs\n",
    "\n",
    "quantification_funcs = get_quantification_funcs()\n",
    "print(\"Available quantification functions:\", quantification_funcs.keys())"
   ]
  },
  {
   "cell_type": "code",
   "execution_count": 14,
   "id": "53b6fb41",
   "metadata": {},
   "outputs": [],
   "source": [
    "function_names = [] # Empty list will use all functions\n",
    "output_path = 'test_quants.csv'\n",
    "curve_quantifications_kwargs = {\n",
    "    'curves_to_fit': ['moderate-pselectin_diagnostics_Image-original_Mean'],\n",
    "    'n_frames_to_analyze': 100,\n",
    "    'tic_name': 'moderate-pselectin_diagnostics_Image-original_Mean'\n",
    "}"
   ]
  },
  {
   "cell_type": "code",
   "execution_count": 15,
   "id": "b3b5d838",
   "metadata": {},
   "outputs": [],
   "source": [
    "from src.entrypoints import curve_quantification_step\n",
    "\n",
    "curve_quant = curve_quantification_step(analysis_obj, function_names, output_path, **curve_quantifications_kwargs)"
   ]
  }
 ],
 "metadata": {
  "kernelspec": {
   "display_name": "QuantUS-env",
   "language": "python",
   "name": "python3"
  },
  "language_info": {
   "codemirror_mode": {
    "name": "ipython",
    "version": 3
   },
   "file_extension": ".py",
   "mimetype": "text/x-python",
   "name": "python",
   "nbconvert_exporter": "python",
   "pygments_lexer": "ipython3",
   "version": "3.11.6"
  }
 },
 "nbformat": 4,
 "nbformat_minor": 5
}
